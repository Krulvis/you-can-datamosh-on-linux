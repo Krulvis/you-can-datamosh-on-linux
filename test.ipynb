{
 "cells": [
  {
   "cell_type": "code",
   "execution_count": 56,
   "metadata": {},
   "outputs": [],
   "source": [
    "from ipywidgets import interact\n",
    "import os\n",
    "from matplotlib import pyplot as plt\n",
    "import ffmpeg\n",
    "import numpy as np\n",
    "\n",
    "from utils import get_img_frame, output_dir, get_resolution"
   ]
  },
  {
   "cell_type": "code",
   "execution_count": 20,
   "metadata": {},
   "outputs": [],
   "source": [
    "input_video = os.path.abspath('11.webm')\n",
    "input_png = os.path.abspath('grid.jpg')\n",
    "file_name = os.path.splitext(os.path.basename(input_video))[0]\n",
    "output_video = os.path.join(output_dir, 'test_mosh_{}.mp4'.format(\n",
    "    file_name))  # this ensures we won't over-write your original video\n",
    "\n",
    "\n",
    "probe = ffmpeg.probe(input_video)\n",
    "video_info = next(s for s in probe['streams'] if s['codec_type'] == 'video')\n",
    "width = int(video_info['width'])\n",
    "height = int(video_info['height'])\n",
    "num_frames = 378\n",
    "\n",
    "\n",
    "overlay_ffmpeg = ffmpeg.input(input_png, s='{}x{}'.format(width, height))\n",
    "fps = 25\n",
    "start_sec = 0\n",
    "end_sec = 20"
   ]
  },
  {
   "cell_type": "code",
   "execution_count": 19,
   "metadata": {
    "scrolled": true
   },
   "outputs": [
    {
     "data": {
      "text/plain": [
       "{'avg_frame_rate': '4520/151',\n",
       " 'chroma_location': 'left',\n",
       " 'codec_long_name': 'On2 VP8',\n",
       " 'codec_name': 'vp8',\n",
       " 'codec_tag': '0x0000',\n",
       " 'codec_tag_string': '[0][0][0][0]',\n",
       " 'codec_time_base': '151/4520',\n",
       " 'codec_type': 'video',\n",
       " 'coded_height': 640,\n",
       " 'coded_width': 640,\n",
       " 'display_aspect_ratio': '1:1',\n",
       " 'disposition': {'attached_pic': 0,\n",
       "  'clean_effects': 0,\n",
       "  'comment': 0,\n",
       "  'default': 1,\n",
       "  'dub': 0,\n",
       "  'forced': 0,\n",
       "  'hearing_impaired': 0,\n",
       "  'karaoke': 0,\n",
       "  'lyrics': 0,\n",
       "  'original': 0,\n",
       "  'timed_thumbnails': 0,\n",
       "  'visual_impaired': 0},\n",
       " 'field_order': 'progressive',\n",
       " 'has_b_frames': 0,\n",
       " 'height': 640,\n",
       " 'index': 0,\n",
       " 'level': -99,\n",
       " 'pix_fmt': 'yuv420p',\n",
       " 'profile': '0',\n",
       " 'r_frame_rate': '4520/151',\n",
       " 'refs': 1,\n",
       " 'sample_aspect_ratio': '1:1',\n",
       " 'start_pts': 0,\n",
       " 'start_time': '0.000000',\n",
       " 'tags': {'DURATION': '00:00:15.100000000', 'ENCODER': 'Lavc58.11.101 libvpx'},\n",
       " 'time_base': '1/1000',\n",
       " 'width': 640}"
      ]
     },
     "execution_count": 19,
     "metadata": {},
     "output_type": "execute_result"
    }
   ],
   "source": [
    "video_info"
   ]
  },
  {
   "cell_type": "code",
   "execution_count": 48,
   "metadata": {},
   "outputs": [
    {
     "ename": "Error",
     "evalue": "ffmpeg error (see stderr output for detail)",
     "output_type": "error",
     "traceback": [
      "\u001b[0;31m---------------------------------------------------------------------------\u001b[0m",
      "\u001b[0;31mError\u001b[0m                                     Traceback (most recent call last)",
      "\u001b[0;32m<ipython-input-48-e9710c51d3e9>\u001b[0m in \u001b[0;36m<module>\u001b[0;34m()\u001b[0m\n\u001b[1;32m      4\u001b[0m     \u001b[0;34m.\u001b[0m\u001b[0moverlay\u001b[0m\u001b[0;34m(\u001b[0m\u001b[0moverlay_ffmpeg\u001b[0m\u001b[0;34m,\u001b[0m \u001b[0meof_action\u001b[0m\u001b[0;34m=\u001b[0m\u001b[0;34m'pass'\u001b[0m\u001b[0;34m)\u001b[0m\u001b[0;34m\u001b[0m\u001b[0;34m\u001b[0m\u001b[0m\n\u001b[1;32m      5\u001b[0m     \u001b[0;34m.\u001b[0m\u001b[0moutput\u001b[0m\u001b[0;34m(\u001b[0m\u001b[0;34m'pipe:'\u001b[0m\u001b[0;34m,\u001b[0m \u001b[0mformat\u001b[0m\u001b[0;34m=\u001b[0m\u001b[0;34m'yuv420'\u001b[0m\u001b[0;34m,\u001b[0m \u001b[0mpix_fmt\u001b[0m\u001b[0;34m=\u001b[0m\u001b[0;34m'rgb24'\u001b[0m\u001b[0;34m)\u001b[0m\u001b[0;34m\u001b[0m\u001b[0;34m\u001b[0m\u001b[0m\n\u001b[0;32m----> 6\u001b[0;31m     \u001b[0;34m.\u001b[0m\u001b[0mrun\u001b[0m\u001b[0;34m(\u001b[0m\u001b[0mcapture_stdout\u001b[0m\u001b[0;34m=\u001b[0m\u001b[0;32mTrue\u001b[0m\u001b[0;34m)\u001b[0m\u001b[0;34m\u001b[0m\u001b[0;34m\u001b[0m\u001b[0m\n\u001b[0m\u001b[1;32m      7\u001b[0m )\n\u001b[1;32m      8\u001b[0m video = (\n",
      "\u001b[0;32m/usr/lib/python3.7/site-packages/ffmpeg/_run.py\u001b[0m in \u001b[0;36mrun\u001b[0;34m(stream_spec, cmd, capture_stdout, capture_stderr, input, quiet, overwrite_output)\u001b[0m\n\u001b[1;32m    293\u001b[0m     \u001b[0mretcode\u001b[0m \u001b[0;34m=\u001b[0m \u001b[0mprocess\u001b[0m\u001b[0;34m.\u001b[0m\u001b[0mpoll\u001b[0m\u001b[0;34m(\u001b[0m\u001b[0;34m)\u001b[0m\u001b[0;34m\u001b[0m\u001b[0;34m\u001b[0m\u001b[0m\n\u001b[1;32m    294\u001b[0m     \u001b[0;32mif\u001b[0m \u001b[0mretcode\u001b[0m\u001b[0;34m:\u001b[0m\u001b[0;34m\u001b[0m\u001b[0;34m\u001b[0m\u001b[0m\n\u001b[0;32m--> 295\u001b[0;31m         \u001b[0;32mraise\u001b[0m \u001b[0mError\u001b[0m\u001b[0;34m(\u001b[0m\u001b[0;34m'ffmpeg'\u001b[0m\u001b[0;34m,\u001b[0m \u001b[0mout\u001b[0m\u001b[0;34m,\u001b[0m \u001b[0merr\u001b[0m\u001b[0;34m)\u001b[0m\u001b[0;34m\u001b[0m\u001b[0;34m\u001b[0m\u001b[0m\n\u001b[0m\u001b[1;32m    296\u001b[0m     \u001b[0;32mreturn\u001b[0m \u001b[0mout\u001b[0m\u001b[0;34m,\u001b[0m \u001b[0merr\u001b[0m\u001b[0;34m\u001b[0m\u001b[0;34m\u001b[0m\u001b[0m\n\u001b[1;32m    297\u001b[0m \u001b[0;34m\u001b[0m\u001b[0m\n",
      "\u001b[0;31mError\u001b[0m: ffmpeg error (see stderr output for detail)"
     ]
    }
   ],
   "source": [
    "out, err = (\n",
    "    ffmpeg\n",
    "    .input('moshed_videos/temp_mosh_11.avi')\n",
    "    .overlay(overlay_ffmpeg, eof_action='pass')\n",
    "    .output('pipe:', format='yuv420', pix_fmt='rgb24')\n",
    "    .run(capture_stdout=True)\n",
    ")\n",
    "video = (\n",
    "    np\n",
    "    .frombuffer(out, np.uint8)\n",
    "    .reshape([-1, height, width, 3])\n",
    ")\n",
    "\n",
    "@interact(frame=(0, num_frames))\n",
    "def show_frame(frame=0):\n",
    "    plt.imshow(video[frame,:,:,:])\n",
    "\n"
   ]
  }
 ],
 "metadata": {
  "kernelspec": {
   "display_name": "Python 3",
   "language": "python",
   "name": "python3"
  },
  "language_info": {
   "codemirror_mode": {
    "name": "ipython",
    "version": 3
   },
   "file_extension": ".py",
   "mimetype": "text/x-python",
   "name": "python",
   "nbconvert_exporter": "python",
   "pygments_lexer": "ipython3",
   "version": "3.7.3"
  }
 },
 "nbformat": 4,
 "nbformat_minor": 1
}
